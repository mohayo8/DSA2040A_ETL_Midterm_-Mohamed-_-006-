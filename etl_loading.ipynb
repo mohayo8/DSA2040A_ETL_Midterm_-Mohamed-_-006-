{
 "cells": [
  {
   "cell_type": "code",
   "execution_count": null,
   "id": "6a90e0cd",
   "metadata": {},
   "outputs": [
    {
     "name": "stdout",
     "output_type": "stream",
     "text": [
      "\n",
      "Loading transformed data...\n",
      "Loaded full_data into loaded/full_data.db\n",
      "Loaded incremental_data into loaded/incremental_data.db\n",
      "\n",
      "Sample from full_data:\n",
      "   order_id customer_name product  quantity  unit_price  order_date region  \\\n",
      "0         1         Diana  Tablet       2.0       500.0  2024-01-20  South   \n",
      "1         2           Eve  Laptop       2.0       500.0  2024-04-29  North   \n",
      "2         3       Charlie  Laptop       2.0       250.0  2024-01-08   None   \n",
      "3         4           Eve  Laptop       2.0       750.0  2024-01-07   West   \n",
      "4         5           Eve  Tablet       3.0       500.0  2024-03-07  South   \n",
      "\n",
      "   total_price  \n",
      "0       1000.0  \n",
      "1       1000.0  \n",
      "2        500.0  \n",
      "3       1500.0  \n",
      "4       1500.0  \n",
      "\n",
      "Sample from incremental_data:\n",
      "   order_id customer_name product  quantity  unit_price  order_date   region  \\\n",
      "0       101         Alice  Laptop       2.0         900  2024-05-09  Central   \n",
      "1       102          None  Laptop       1.0         300  2024-05-07  Central   \n",
      "2       103          None  Laptop       1.0         600  2024-05-04  Central   \n",
      "3       104          None  Tablet       2.0         300  2024-05-26  Central   \n",
      "4       105         Heidi  Tablet       2.0         600  2024-05-21    North   \n",
      "\n",
      "   total_price  \n",
      "0       1800.0  \n",
      "1        300.0  \n",
      "2        600.0  \n",
      "3        600.0  \n",
      "4       1200.0  \n",
      "\n",
      "Both databases closed successfully.\n"
     ]
    }
   ],
   "source": [
    "import pandas as pd\n",
    "import sqlite3\n",
    "import os\n",
    "\n",
    "# Ensuring loaded directory exists\n",
    "os.makedirs(\"loaded\", exist_ok=True)\n",
    "\n",
    "# Loading transformed data\n",
    "print(\"\\nLoading transformed data...\")\n",
    "full_df = pd.read_csv(\"transformed/transformed_full.csv\")\n",
    "incr_df = pd.read_csv(\"transformed/transformed_incremental.csv\")\n",
    "\n",
    "# Saving the full data into full_data.db\n",
    "full_conn = sqlite3.connect(\"loaded/full_data.db\")\n",
    "full_df.to_sql(\"full_data\", full_conn, if_exists=\"replace\", index=False)\n",
    "print(\"Loaded full_data into loaded/full_data.db\")\n",
    "\n",
    "# Saving the incremental data into incremental_data.db\n",
    "incr_conn = sqlite3.connect(\"loaded/incremental_data.db\")\n",
    "incr_df.to_sql(\"incremental_data\", incr_conn, if_exists=\"replace\", index=False)\n",
    "print(\"Loaded incremental_data into loaded/incremental_data.db\")\n",
    "\n",
    "# Previewing samples from each of the datasets\n",
    "print(\"\\nSample from full_data:\")\n",
    "print(pd.read_sql(\"SELECT * FROM full_data LIMIT 5\", full_conn))\n",
    "\n",
    "print(\"\\nSample from incremental_data:\")\n",
    "print(pd.read_sql(\"SELECT * FROM incremental_data LIMIT 5\", incr_conn))\n",
    "\n",
    "# Closeing the connections\n",
    "full_conn.close()\n",
    "incr_conn.close()\n",
    "print(\"\\nBoth databases closed successfully.\")\n"
   ]
  }
 ],
 "metadata": {
  "kernelspec": {
   "display_name": "Python 3",
   "language": "python",
   "name": "python3"
  },
  "language_info": {
   "codemirror_mode": {
    "name": "ipython",
    "version": 3
   },
   "file_extension": ".py",
   "mimetype": "text/x-python",
   "name": "python",
   "nbconvert_exporter": "python",
   "pygments_lexer": "ipython3",
   "version": "3.12.10"
  }
 },
 "nbformat": 4,
 "nbformat_minor": 5
}
