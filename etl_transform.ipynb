{
 "cells": [
  {
   "cell_type": "code",
   "execution_count": null,
   "id": "0399175f",
   "metadata": {},
   "outputs": [
    {
     "name": "stdout",
     "output_type": "stream",
     "text": [
      "\n",
      "Removing duplicates from full data...\n",
      "Before: (100, 7)\n",
      "After: (99, 7)\n",
      "\n",
      "Removing duplicates from incremental data...\n",
      "Before: (10, 7)\n",
      "After: (10, 7)\n",
      "\n",
      "Filling missing numerical values...\n",
      "\n",
      "Adding total_price column...\n",
      "\n",
      "Converting order_date to datetime...\n",
      "\n",
      "Transformed files saved to /transformed directory.\n"
     ]
    }
   ],
   "source": [
    "import pandas as pd  # Importing pandas for data manipulation\n",
    "import os  # To handle directory creation\n",
    "\n",
    "# Ensuring the transformed directory exists\n",
    "os.makedirs(\"transformed\", exist_ok=True)  # Creating 'transformed' folder if not present\n",
    "\n",
    "# Loading the extracted data\n",
    "full_df = pd.read_csv(\"data/raw_data.csv\")  # Loading full dataset\n",
    "incr_df = pd.read_csv(\"data/incremental_data.csv\")  # Loading incremental dataset\n",
    "\n",
    "# Transformation 1. Removing duplicate rows\n",
    "print(\"\\nRemoving duplicates from full data...\")\n",
    "print(\"Before:\", full_df.shape)  # Printing shape before removing duplicates\n",
    "full_df = full_df.drop_duplicates()  # Droping duplicate rows from full data\n",
    "print(\"After:\", full_df.shape)  # Printing shape after removing duplicates\n",
    "\n",
    "print(\"\\nRemoving duplicates from incremental data...\")\n",
    "print(\"Before:\", incr_df.shape)  # Printing shape before removing duplicates\n",
    "incr_df = incr_df.drop_duplicates()  # Droping duplicate rows from incremental data\n",
    "print(\"After:\", incr_df.shape)  # Printing shape after removing duplicates\n",
    "\n",
    "# Transformation 2. Filling in missing numerical values with median (use assignment to avoid chained warning)\n",
    "print(\"\\nFilling missing numerical values...\")\n",
    "numeric_cols = full_df.select_dtypes(include=['float64', 'int64']).columns  # Identifying numeric columns\n",
    "for col in numeric_cols:\n",
    "    median_val = full_df[col].median()  # Calculating median for each column\n",
    "    full_df[col] = full_df[col].fillna(median_val)  # Filling missing values in full dataset\n",
    "    incr_df[col] = incr_df[col].fillna(median_val)  # Filling missing values in incremental dataset\n",
    "\n",
    "# Transformation 3. Creating a new column: total_price = quantity * unit_price\n",
    "print(\"\\nAdding total_price column...\")\n",
    "full_df['total_price'] = full_df['quantity'] * full_df['unit_price']  # Calculating total price for full data\n",
    "incr_df['total_price'] = incr_df['quantity'] * incr_df['unit_price']  # Calculating total price for incremental data\n",
    "\n",
    "# Transformation 4. Converting date strings to datetime with day-first format\n",
    "print(\"\\nConverting order_date to datetime...\")\n",
    "full_df['order_date'] = pd.to_datetime(full_df['order_date'], dayfirst=True)  # Converting using dayfirst format\n",
    "incr_df['order_date'] = pd.to_datetime(incr_df['order_date'], dayfirst=True)  # Converting using dayfirst format\n",
    "\n",
    "# Saving transformed data\n",
    "full_df.to_csv(\"transformed/transformed_full.csv\", index=False)  # Saving full transformed data\n",
    "incr_df.to_csv(\"transformed/transformed_incremental.csv\", index=False)  # Saving incremental transformed data\n",
    "print(\"\\nTransformed files saved to /transformed directory.\")"
   ]
  }
 ],
 "metadata": {
  "kernelspec": {
   "display_name": "Python 3",
   "language": "python",
   "name": "python3"
  },
  "language_info": {
   "codemirror_mode": {
    "name": "ipython",
    "version": 3
   },
   "file_extension": ".py",
   "mimetype": "text/x-python",
   "name": "python",
   "nbconvert_exporter": "python",
   "pygments_lexer": "ipython3",
   "version": "3.12.10"
  }
 },
 "nbformat": 4,
 "nbformat_minor": 5
}
